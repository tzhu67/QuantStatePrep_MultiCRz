{
 "cells": [
  {
   "cell_type": "markdown",
   "id": "54060450-b33c-4df5-9c90-b4cb3103ef14",
   "metadata": {},
   "source": [
    "$\\newcommand{\\cd}{\\cdot}$\n",
    "$\\newcommand{\\cs}{\\cdots}$\n",
    "$\\newcommand{\\dg}{^{\\dagger}}$\n",
    "$\\newcommand{\\fr}{\\frac}$\n",
    "$\\newcommand{\\nm}[1]{\\left\\lVert#1\\right\\rVert}$\n",
    "$\\newcommand{\\ps}{\\psi}$\n",
    "$\\newcommand{\\px}[1]{\\begin{pmatrix}#1\\end{pmatrix}}$\n",
    "$\\newcommand{\\qs}[1]{\\left|#1\\right>}$\n",
    "$\\newcommand{\\sq}{\\sqrt}$\n",
    "$\\newcommand{\\te}{\\theta}$\n",
    "# Quantum-State-Preparation Circuit\n",
    "## Input: $\\psi\\in\\mathbb C^{2^n}$ s.t. $\\nm\\psi_2=1$.\n",
    "## Output: $U:~\\qs0_n~\\mapsto\\sum_{x=0}^{2^n-1}\\psi_x\\qs x_n,~x\\in\\mathbb F_2^n$.\n",
    "### Induction:\n",
    "#### n=1\n",
    "$U_1=R_Y(\\theta_0)$, where $R_Y(\\theta)=S\\cd H\\cd R_Z(\\theta)\\cd H\\cd S\\dg,~S=P(\\pi/2),~\\theta_0=2\\arccos(\\psi_0)$.\n",
    "#### n=2\n",
    "$U_2=R_Y(\\theta_{1\\cd})\\px{0\\\\R_Y(\\theta_0)}$,\n",
    "where $R_Y(\\theta_{1\\cd})=\\px{0\\\\X}C_1R_Y(\\theta_{10})\\px{0\\\\X}C_1R_Y(\\theta_{11})$,\n",
    "$\\te_0=2\\arccos(\\sq{\\ps_{00}^2+\\ps_{10}^2})$,\n",
    "$\\te_{10}=2\\arccos(\\fr{\\ps_{00}}{\\sq{\\ps_{00}^2+\\ps_{10}^2}})$,\n",
    "$\\te_{11}=2\\arccos(\\fr{\\ps_{01}}{\\sq{\\ps_{01}^2+\\ps_{11}^2}})$.\n",
    "#### Suppose $U_k$ is a $k$-dimensional QSP gate, then $U_{k+1}=U_k(\\ps_{k\\cd})\\px{0^k\\\\R_Y(\\te_0)}$ and $\\te_0=2\\arccos(\\nm{\\ps_{(\\cd)^k0}}_2)$,\n",
    "where $U_k(\\ps_{k\\cd})=\\px{0^k\\\\X}C_{k+1}U_k(\\fr{\\ps_{(\\cd)^k0}}{\\nm{\\ps_{(\\cd)^k0}}_2})\n",
    "    \\px{0^k\\\\X}C_{k+1}U_k(\\fr{\\ps_{(\\cd)^k1}}{\\nm{\\ps_{(\\cd)^k1}}_2})$,\n",
    "    $\\ps_{(\\cd)^k0}$ denoting $(\\ps_{0^k0},\\cs,\\ps_{1^k0})\\in\\mathbb C^{2^k}$, $0^k$ denoting $(0,\\cs,0)\\in\\mathbb F_2^k$."
   ]
  },
  {
   "cell_type": "code",
   "execution_count": 4,
   "id": "c98af266-0ef0-4406-94d5-af14f4494248",
   "metadata": {},
   "outputs": [],
   "source": [
    "from qiskit.circuit import QuantumCircuit, QuantumRegister, AncillaRegister\n",
    "from qiskit.circuit.library import RZGate\n",
    "from qiskit.quantum_info import Statevector, Operator\n",
    "import numpy as np"
   ]
  },
  {
   "cell_type": "markdown",
   "id": "b322fce0-cef9-4c17-a5d5-932a99ba7f6d",
   "metadata": {},
   "source": [
    "We begin with the implementation of multi-controlled $R_Y$ via multi-controlled $R_Z$ and $1$-qubit gates."
   ]
  },
  {
   "cell_type": "code",
   "execution_count": 38,
   "id": "d32dd201-9d34-4b9c-832f-3508ed7435a4",
   "metadata": {},
   "outputs": [
    {
     "name": "stdout",
     "output_type": "stream",
     "text": [
      "CCRy(pi/3)=\n",
      "[[ 1. +0.j  0. +0.j  0. +0.j  0. +0.j  0. +0.j  0. +0.j  0. +0.j  0. +0.j]\n",
      " [ 0. +0.j  1. +0.j  0. +0.j  0. +0.j  0. +0.j  0. +0.j  0. +0.j  0. +0.j]\n",
      " [ 0. +0.j  0. +0.j  1. +0.j  0. +0.j  0. +0.j  0. +0.j  0. +0.j  0. +0.j]\n",
      " [ 0. +0.j  0. +0.j  0. +0.j  0.9+0.j  0. +0.j  0. +0.j  0. +0.j -0.5+0.j]\n",
      " [ 0. +0.j  0. +0.j  0. +0.j  0. +0.j  1. -0.j  0. +0.j  0. +0.j  0. +0.j]\n",
      " [ 0. +0.j  0. +0.j  0. +0.j  0. +0.j  0. +0.j  1. -0.j  0. +0.j  0. +0.j]\n",
      " [ 0. +0.j  0. +0.j -0. +0.j  0. +0.j  0. +0.j  0. +0.j  1. -0.j  0. +0.j]\n",
      " [ 0. +0.j  0. +0.j  0. +0.j  0.5-0.j  0. +0.j  0. +0.j  0. +0.j  0.9+0.j]]\n"
     ]
    },
    {
     "data": {
      "image/png": "[encoded data removed]",
      "text/plain": [
       "<Figure size 537.128x284.278 with 1 Axes>"
      ]
     },
     "execution_count": 38,
     "metadata": {},
     "output_type": "execute_result"
    }
   ],
   "source": [
    "def mcry(circ, theta, cidx, tidx): # List of indices for controls, and index for target\n",
    "    rz = RZGate(theta)\n",
    "    if len(cidx) == 0:\n",
    "        crz = rz # No-control case\n",
    "    else:\n",
    "        crz = rz.control(len(cidx))\n",
    "\n",
    "    circ.p(-np.pi/2, tidx) # S dagger\n",
    "    circ.h(tidx) # Hadamard\n",
    "    circ.append(crz, cidx+[tidx])  # R_Z(theta) with controls\n",
    "    circ.h(tidx) # Hadamard\n",
    "    circ.p(np.pi/2, tidx) # S, here completes the decomposition of R_Y(theta)\n",
    "# Since a QuantumCircuit is mutable, no return is needed.\n",
    "x = QuantumRegister(size=3, name=\"x\")\n",
    "c = QuantumCircuit(x, name=\"mcryTest\")\n",
    "mcry(c, np.pi/3, [0,1], 2)\n",
    "print('CCRy(pi/3)=')\n",
    "print(np.round(Operator(c).data, 1))\n",
    "c.draw(output=\"mpl\")"
   ]
  },
  {
   "cell_type": "code",
   "execution_count": 49,
   "id": "a94afd4d-ca7d-4983-ac60-ff65395db6b6",
   "metadata": {},
   "outputs": [
    {
     "name": "stdout",
     "output_type": "stream",
     "text": [
      "[0.40824829+5.55111512e-17j 0.54772256-3.35383338e-17j\n",
      " 0.73029674-4.83971535e-17j 0.        +0.00000000e+00j]\n"
     ]
    },
    {
     "data": {
      "image/png": "[encoded data removed]",
      "text/plain": [
       "<Figure size 1540.26x200.667 with 1 Axes>"
      ]
     },
     "execution_count": 49,
     "metadata": {},
     "output_type": "execute_result"
    }
   ],
   "source": [
    "def induction(circ, psi, cidx, k): # Bottom-up Construction begining with control == [] and target == x[n-1]\n",
    "    psi_0 = psi[:2^k]; norm_0 = np.linalg.norm(psi_0)\n",
    "    theta_0 = 2*np.arccos(norm_0)\n",
    "    if k==0: # Top layer\n",
    "        mcry(circ, theta_0, cidx, 0)\n",
    "    else:\n",
    "        psi_1 = psi[2^k:]; norm_1 = np.linalg.norm(psi_1)\n",
    "        mcry(circ, theta_0, cidx, k)\n",
    "        circ.barrier()\n",
    "        circ.x(k)\n",
    "        induction(circ, [p/norm_0 for p in psi_0], cidx+[k], k-1)\n",
    "        circ.x(k)\n",
    "        circ.barrier()\n",
    "        induction(circ, [p/norm_1 for p in psi_1], cidx+[k], k-1)\n",
    "x = QuantumRegister(size=2, name=\"x\")\n",
    "c = QuantumCircuit(x, name=\"inductionTest\")\n",
    "induction(c, np.arange(1,5)/np.sqrt(30), [], 1)\n",
    "print(Statevector(c).data)\n",
    "c.draw(output=\"mpl\")"
   ]
  }
 ],
 "metadata": {
  "kernelspec": {
   "display_name": "Python 3 (ipykernel)",
   "language": "python",
   "name": "python3"
  },
  "language_info": {
   "codemirror_mode": {
    "name": "ipython",
    "version": 3
   },
   "file_extension": ".py",
   "mimetype": "text/x-python",
   "name": "python",
   "nbconvert_exporter": "python",
   "pygments_lexer": "ipython3",
   "version": "3.11.9"
  }
 },
 "nbformat": 4,
 "nbformat_minor": 5
}
